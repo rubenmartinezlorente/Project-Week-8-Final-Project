{
 "cells": [
  {
   "cell_type": "markdown",
   "metadata": {},
   "source": [
    "## Import libraries"
   ]
  },
  {
   "cell_type": "code",
   "execution_count": 1,
   "metadata": {},
   "outputs": [],
   "source": [
    "import numpy as np\n",
    "import pandas as pd\n"
   ]
  },
  {
   "cell_type": "markdown",
   "metadata": {},
   "source": [
    "---------------------------------------------------------------------------------------------\n",
    "\n",
    "# 1st STEP: SLICING SUPERSET\n",
    "\n",
    "## Reading two dasets with 227 countries which repeat ciclycally for 5 different attributes:\n",
    "*We have 5 datasets inside of one 'SUPER'dataset*. *Need to split them up in five separately*\n",
    "### total\n",
    "### nuclear\n",
    "### renewable\n",
    "### fossil fuel\n",
    "### hydroelectric pumped storage\n",
    "---------------------------------------------------------------------------------------------\n"
   ]
  },
  {
   "cell_type": "code",
   "execution_count": 2,
   "metadata": {},
   "outputs": [],
   "source": [
    "capacity = pd.read_csv('../raw_data/electricity_capacity.csv',sep=',',header=4, quotechar='\"',decimal=',')\n",
    "generation = pd.read_csv('../raw_data/electricity_generation.csv',sep=',',header=4, quotechar='\"',decimal=',')\n"
   ]
  },
  {
   "cell_type": "markdown",
   "metadata": {},
   "source": [
    "## For each dataset we define the names we want to split it up: their name categories"
   ]
  },
  {
   "cell_type": "code",
   "execution_count": 3,
   "metadata": {},
   "outputs": [],
   "source": [
    "categories_generation = ['Generation', 'Nuclear', 'Renewables', 'Fossil Fuels', 'Hydroelectric Pumped Storage']\n",
    "categories_capacity = ['Capacity', 'Nuclear', 'Renewables', 'Fossil Fuels', 'Hydroelectric Pumped Storage']"
   ]
  },
  {
   "cell_type": "markdown",
   "metadata": {},
   "source": [
    "## We save the index where the different datasets have to been splitted up"
   ]
  },
  {
   "cell_type": "code",
   "execution_count": 4,
   "metadata": {},
   "outputs": [],
   "source": [
    "indexes = []\n",
    "for i in categories_generation:\n",
    "    indexes.append(generation[generation['Unnamed: 1'] == i].index[0])"
   ]
  },
  {
   "cell_type": "markdown",
   "metadata": {},
   "source": [
    "## Slicing every dataset (from a total of 2: generation and capacity of eletrical energy) and save them in two dataframes."
   ]
  },
  {
   "cell_type": "code",
   "execution_count": 5,
   "metadata": {},
   "outputs": [],
   "source": [
    "#definition of slicing function\n",
    "\n",
    "def slicing(df, indexes):\n",
    "    dataframes = []\n",
    "    for i in range(len(indexes) - 1):\n",
    "        dataframes.append(df.iloc[indexes[i]: indexes[i + 1]])\n",
    "    else:\n",
    "        dataframes.append(df.iloc[indexes[i + 1]:])\n",
    "    return dataframes\n",
    "\n",
    "##saving the datases in a list of dataframes\n",
    "\n",
    "generation = slicing(generation,indexes)\n",
    "capacity = slicing (capacity,indexes)"
   ]
  },
  {
   "cell_type": "markdown",
   "metadata": {},
   "source": [
    "### Rename all dataset (5 datasets from the 2 initial 'SUPER'dataset), makes a total of 10"
   ]
  },
  {
   "cell_type": "code",
   "execution_count": 6,
   "metadata": {},
   "outputs": [],
   "source": [
    "gen_total= generation[0].reset_index(drop=True)\n",
    "gen_nuclear = generation[1].reset_index(drop=True)\n",
    "gen_renewable = generation[2].reset_index(drop=True) \n",
    "gen_fossil = generation[3].reset_index(drop=True) \n",
    "gen_hidro = generation[4].reset_index(drop=True) \n",
    "\n",
    "cap_total = capacity[0].reset_index(drop=True)\n",
    "cap_nuclear = capacity[1].reset_index(drop=True)\n",
    "cap_renewable = capacity[2].reset_index(drop=True)\n",
    "cap_fossil = capacity[3].reset_index(drop=True)\n",
    "cap_hidro = capacity[4].reset_index(drop=True)\n",
    "\n",
    "\n"
   ]
  },
  {
   "cell_type": "markdown",
   "metadata": {},
   "source": [
    "### Read the other 4 'simple' dataset"
   ]
  },
  {
   "cell_type": "code",
   "execution_count": 7,
   "metadata": {},
   "outputs": [],
   "source": [
    "consumption = pd.read_csv('../raw_data/electricity_consumption.csv',sep=',',header=4, quotechar='\"',decimal=',')\n",
    "exports = pd.read_csv('../raw_data/electricity_exports.csv',sep=',',header=4, quotechar='\"',decimal=',')\n",
    "imports = pd.read_csv('../raw_data/electricity_imports.csv',sep=',',header=4, quotechar='\"',decimal=',')\n",
    "population = pd.read_csv('../raw_data/population.csv',sep=',',header=4, quotechar='\"',decimal=',')\n"
   ]
  },
  {
   "cell_type": "markdown",
   "metadata": {},
   "source": [
    "## Gathering all useful datasets as function of how many initial rows we need to drop, because there is just the category of attribute. \n",
    "\n",
    "## That information it in the name of the proper dataframe"
   ]
  },
  {
   "cell_type": "code",
   "execution_count": 8,
   "metadata": {},
   "outputs": [],
   "source": [
    "features_01 = list([consumption, exports, imports, population, gen_total,cap_total,gen_renewable,cap_renewable])\n",
    "features_1 = list([gen_nuclear, gen_fossil, gen_hidro, cap_nuclear,cap_fossil,cap_hidro])"
   ]
  },
  {
   "cell_type": "markdown",
   "metadata": {},
   "source": [
    "---------------------------------------------------------------------------------------------\n",
    "\n",
    "# 2nd STEP: CLEANING SUPERSET\n",
    "\n",
    "## Define two functions: *CLEAN1* and *CLEAN2* to clean all datasets on an authomatized way.\n",
    "\n",
    "---------------------------------------------------------------------------------------------\n"
   ]
  },
  {
   "cell_type": "markdown",
   "metadata": {},
   "source": [
    "## CLEAN1 FUNCTION: *dataset with two first rows to drop*\n",
    "\n",
    "### #1 dropping the empty  and the units columns\n",
    "\n",
    "### #2 dropping the first 2 rows because there are the quantity to analyze and the category\n",
    "\n",
    "### #3 rename the country column\n",
    "\n",
    "### #4 Set'country' index\n",
    "\n",
    "### #5 Replacing '--', '-' for nan. I discover for trial and error.\n",
    "\n",
    "### #6 Drop the missing values.\n",
    "\n",
    "### #7 Convert the data from objetct to number (float or int)\n",
    "\n",
    "### #8  Transpose the matrix to have the country as index and year as columns.\n"
   ]
  },
  {
   "cell_type": "code",
   "execution_count": 9,
   "metadata": {},
   "outputs": [],
   "source": [
    "def clean1():\n",
    "    for df in features_01:\n",
    "        \n",
    "        #1\n",
    "        df.drop('Unnamed: 0',axis=1,inplace=True)\n",
    "        \n",
    "        df.drop('Unnamed: 2',axis=1,inplace=True)\n",
    "        \n",
    "        #2\n",
    "        df.drop([0,1],axis=0,inplace=True)\n",
    "        \n",
    "        #3\n",
    "        df.rename(columns={'Unnamed: 1':'country'},inplace=True)\n",
    "        \n",
    "        #4        \n",
    "        df.set_index('country', inplace=True)\n",
    "\n",
    "        #5\n",
    "        df.replace('--', np.nan, inplace=True)\n",
    "        df.replace('-', np.nan, inplace=True)\n",
    "        \n",
    "        #6\n",
    "        df.dropna(inplace=True)\n",
    "       \n",
    "        #7\n",
    "        for year in df.columns:\n",
    "            df[year] = pd.to_numeric(df[year],errors='coerce')\n",
    "        \n",
    "        #8\n",
    "        df=df.T\n",
    "clean1()"
   ]
  },
  {
   "cell_type": "markdown",
   "metadata": {},
   "source": [
    "\n",
    "## CLEAN2 FUNCTION: *dataset with just first row to drop*\n",
    "\n",
    "### #1 dropping the empty  and the units columns\n",
    "\n",
    "### #2 dropping the first 2 rows because there are the quantity to analyze and the category\n",
    "\n",
    "### #3 rename the country column\n",
    "\n",
    "### #4 Set'country' index\n",
    "\n",
    "### #5 Replacing '--', '-' for nan. I discover for trial and error.\n",
    "\n",
    "### #6 Drop the missing values.\n",
    "\n",
    "### #7 Convert the data from objetct to number (float or int)\n",
    "\n",
    "### #8  Transpose the matrix to have the country as index and year as columns.\n"
   ]
  },
  {
   "cell_type": "code",
   "execution_count": 10,
   "metadata": {},
   "outputs": [],
   "source": [
    "def clean2():\n",
    "    for df in features_1:\n",
    "        \n",
    "        #1\n",
    "        df.drop('Unnamed: 0',axis=1,inplace=True)\n",
    "        \n",
    "        df.drop('Unnamed: 2',axis=1,inplace=True)\n",
    "        \n",
    "        #2\n",
    "        df.drop([0],axis=0,inplace=True)\n",
    "        \n",
    "        #3\n",
    "        df.rename(columns={'Unnamed: 1':'country'},inplace=True)\n",
    "        df.reset_index(drop=True,inplace=True)\n",
    "                \n",
    "        #4        \n",
    "        df.set_index('country', inplace=True)\n",
    "\n",
    "        #5\n",
    "        df.replace('--', np.nan, inplace=True)\n",
    "        df.replace('-', np.nan, inplace=True)\n",
    "\n",
    "        \n",
    "        #6\n",
    "        df.dropna(inplace=True)\n",
    "\n",
    "        #7\n",
    "        for year in df.columns:\n",
    "           df[year] = pd.to_numeric(df[year],errors='coerce')\n",
    "        \n",
    "        #8\n",
    "        df=df.T\n",
    "clean2()"
   ]
  },
  {
   "cell_type": "markdown",
   "metadata": {},
   "source": [
    "---------------------------------------------------------------------------------------------\n",
    "\n",
    "# 3rd STEP: SAVING THE DATA\n",
    "---------------------------------------------------------------------------------------------"
   ]
  },
  {
   "cell_type": "code",
   "execution_count": 15,
   "metadata": {},
   "outputs": [],
   "source": [
    "features_01 = list([consumption, exports, imports, population, gen_total,cap_total,gen_renewable,cap_renewable])\n",
    "features_1 = list([gen_nuclear, gen_fossil, gen_hidro, cap_nuclear,cap_fossil,cap_hidro])\n",
    "\n",
    "consumption.to_csv('../cleaned_data/consumption.csv')\n",
    "exports.to_csv('../cleaned_data/exports.csv')\n",
    "imports.to_csv('../cleaned_data/imports.csv')\n",
    "gen_total.to_csv('../cleaned_data/generation_total.csv')\n",
    "cap_total.to_csv('../cleaned_data/capacity_total.csv')\n",
    "cap_renewable.to_csv('../cleaned_data/capacity_renewable.csv')\n",
    "gen_renewable.to_csv('../cleaned_data/generation_renewable.csv')\n",
    "gen_nuclear.to_csv('../cleaned_data/generation_nuclear.csv')\n",
    "gen_fossil.to_csv('../cleaned_data/generation_fossil.csv')\n",
    "gen_hidro.to_csv('../cleaned_data/generation_hydrodinamic.csv')\n",
    "cap_nuclear.to_csv('../cleaned_data/capacity_nuclear.csv')\n",
    "cap_fossil.to_csv('../cleaned_data/capacity_fossil.csv')\n",
    "cap_hidro.to_csv('../cleaned_data/capacity_hydrodinamic.csv')\n",
    "population.to_csv('../cleaned_data/population.csv')\n",
    "\n"
   ]
  },
  {
   "cell_type": "code",
   "execution_count": null,
   "metadata": {},
   "outputs": [],
   "source": []
  }
 ],
 "metadata": {
  "kernelspec": {
   "display_name": "Python 3",
   "language": "python",
   "name": "python3"
  },
  "language_info": {
   "codemirror_mode": {
    "name": "ipython",
    "version": 3
   },
   "file_extension": ".py",
   "mimetype": "text/x-python",
   "name": "python",
   "nbconvert_exporter": "python",
   "pygments_lexer": "ipython3",
   "version": "3.7.4"
  }
 },
 "nbformat": 4,
 "nbformat_minor": 2
}
