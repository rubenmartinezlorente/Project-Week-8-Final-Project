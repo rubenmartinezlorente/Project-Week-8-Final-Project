{
 "cells": [
  {
   "cell_type": "markdown",
   "metadata": {},
   "source": [
    "## Import libraries"
   ]
  },
  {
   "cell_type": "code",
   "execution_count": 42,
   "metadata": {},
   "outputs": [],
   "source": [
    "import numpy as np\n",
    "import pandas as pd\n",
    "import matplotlib.pyplot as plt\n",
    "import seaborn as sns\n"
   ]
  },
  {
   "cell_type": "markdown",
   "metadata": {},
   "source": [
    "## Reading two dasets with 227 countries which repeat ciclycally for 5 different attributes:\n",
    "*We have 5 datasets inside of one 'SUPER'dataset*. *Need to split them up in five separately*\n",
    "### total\n",
    "### nuclear\n",
    "### renewable\n",
    "### fossil fuel\n",
    "### hydroelectric pumped storage"
   ]
  },
  {
   "cell_type": "code",
   "execution_count": 43,
   "metadata": {},
   "outputs": [],
   "source": [
    "capacity = pd.read_csv('../raw_data/electricity_capacity.csv',sep=',',header=4, quotechar='\"',decimal=',')\n",
    "generation = pd.read_csv('../raw_data/electricity_generation.csv',sep=',',header=4, quotechar='\"',decimal=',')\n"
   ]
  },
  {
   "cell_type": "markdown",
   "metadata": {},
   "source": [
    "## For each dataset we define the names we want to split it up: their name categories"
   ]
  },
  {
   "cell_type": "code",
   "execution_count": 44,
   "metadata": {},
   "outputs": [],
   "source": [
    "categories_generation = ['Generation', 'Nuclear', 'Renewables', 'Fossil Fuels', 'Hydroelectric Pumped Storage']\n",
    "categories_capacity = ['Capacity', 'Nuclear', 'Renewables', 'Fossil Fuels', 'Hydroelectric Pumped Storage']"
   ]
  },
  {
   "cell_type": "markdown",
   "metadata": {},
   "source": [
    "## We save the index where the different datasets have to been splitted up"
   ]
  },
  {
   "cell_type": "code",
   "execution_count": 45,
   "metadata": {},
   "outputs": [],
   "source": [
    "indexes = []\n",
    "for i in categories_generation:\n",
    "    indexes.append(generation[generation['Unnamed: 1'] == i].index[0])"
   ]
  },
  {
   "cell_type": "markdown",
   "metadata": {},
   "source": [
    "## Slicing every dataset (from a total of 2: generation and capacity of eletrical energy) and save them in two dataframes."
   ]
  },
  {
   "cell_type": "code",
   "execution_count": 46,
   "metadata": {},
   "outputs": [],
   "source": [
    "#definition of slicing function\n",
    "\n",
    "def slicing(df, indexes):\n",
    "    dataframes = []\n",
    "    for i in range(len(indexes) - 1):\n",
    "        dataframes.append(df.iloc[indexes[i]: indexes[i + 1]])\n",
    "    else:\n",
    "        dataframes.append(df.iloc[indexes[i + 1]:])\n",
    "    return dataframes\n",
    "\n",
    "##saving the datases in a list of dataframes\n",
    "\n",
    "generation = slicing(generation,indexes)\n",
    "capacity = slicing (capacity,indexes)"
   ]
  },
  {
   "cell_type": "markdown",
   "metadata": {},
   "source": [
    "### Rename all dataset (5 datasets from the 2 initial 'SUPER'dataset), makes a total of 10"
   ]
  },
  {
   "cell_type": "code",
   "execution_count": 47,
   "metadata": {},
   "outputs": [],
   "source": [
    "gen_total= generation[0].reset_index(drop=True)\n",
    "gen_nuclear = generation[1].reset_index(drop=True)\n",
    "gen_renewable = generation[2].reset_index(drop=True) \n",
    "gen_fossil = generation[3].reset_index(drop=True) \n",
    "gen_hidro = generation[4].reset_index(drop=True) \n",
    "\n",
    "cap_total = capacity[0].reset_index(drop=True)\n",
    "cap_nuclear = capacity[1].reset_index(drop=True)\n",
    "cap_renewable = capacity[2].reset_index(drop=True)\n",
    "cap_fossil = capacity[3].reset_index(drop=True)\n",
    "cap_hidro = capacity[4].reset_index(drop=True)\n",
    "\n",
    "\n"
   ]
  },
  {
   "cell_type": "markdown",
   "metadata": {},
   "source": [
    "### Read the other 4 'simple' dataset"
   ]
  },
  {
   "cell_type": "code",
   "execution_count": 48,
   "metadata": {},
   "outputs": [],
   "source": [
    "consumption = pd.read_csv('../raw_data/electricity_consumption.csv',sep=',',header=4, quotechar='\"',decimal=',')\n",
    "exports = pd.read_csv('../raw_data/electricity_exports.csv',sep=',',header=4, quotechar='\"',decimal=',')\n",
    "imports = pd.read_csv('../raw_data/electricity_imports.csv',sep=',',header=4, quotechar='\"',decimal=',')\n",
    "population = pd.read_csv('../raw_data/population.csv',sep=',',header=4, quotechar='\"',decimal=',')\n"
   ]
  },
  {
   "cell_type": "markdown",
   "metadata": {},
   "source": [
    "## Gathering all useful datasets as function of how many initial rows we need to drop, because there is just the category of attribute. \n",
    "\n",
    "## That information it in the name of the proper dataframe"
   ]
  },
  {
   "cell_type": "code",
   "execution_count": 49,
   "metadata": {},
   "outputs": [],
   "source": [
    "features_01 = list([consumption, exports, imports, population, gen_total,cap_total,gen_renewable,cap_renewable])\n",
    "features_1 = list([gen_nuclear, gen_fossil, gen_hidro, cap_nuclear,cap_fossil,cap_hidro])\n"
   ]
  },
  {
   "cell_type": "markdown",
   "metadata": {},
   "source": [
    "# DATA CLEANING SECTION"
   ]
  },
  {
   "cell_type": "markdown",
   "metadata": {},
   "source": [
    "## Define a function to clean all datasets on an authomatized way.\n",
    "\n",
    "## CLEAN01 FUNCTION: *dataset with two first rows to drop*\n",
    "\n",
    "### #1 dropping the empty  and the units columns\n",
    "\n",
    "### #2 dropping the first 2 rows because there are the quantity to analyze and the category\n",
    "\n",
    "### #3 rename the country column\n",
    "\n",
    "### #4 Set'country' index\n",
    "\n",
    "### #5 Drop the missing values\n",
    "\n",
    "### #6 Replacing '--', '-' for nan. I discover for trial and error.\n",
    "\n",
    "### #7 Convert the data from objetct to number (float or int)\n",
    "\n",
    "### #8  Transpose the matrix to have the country as index and year as columns.\n"
   ]
  },
  {
   "cell_type": "code",
   "execution_count": 50,
   "metadata": {},
   "outputs": [],
   "source": [
    "def clean01():\n",
    "    for df in features_01:\n",
    "        \n",
    "        #1\n",
    "        df.drop('Unnamed: 0',axis=1,inplace=True)\n",
    "        \n",
    "        df.drop('Unnamed: 2',axis=1,inplace=True)\n",
    "        \n",
    "        #2\n",
    "        df.drop([0,1],axis=0,inplace=True)\n",
    "        \n",
    "        #3\n",
    "        df.rename(columns={'Unnamed: 1':'country'},inplace=True)\n",
    "        \n",
    "        #4        \n",
    "        df.set_index('country', inplace=True)\n",
    "\n",
    "        #5\n",
    "        df.dropna(inplace=True)\n",
    "        \n",
    "        #6\n",
    "        df.replace('--', np.nan, inplace=True)\n",
    "        df.replace('-', np.nan, inplace=True)\n",
    "        \n",
    "        #7\n",
    "        for year in df.columns:\n",
    "            df[year] = pd.to_numeric(df[year],errors='coerce')\n",
    "        \n",
    "        #8\n",
    "        df=df.T\n",
    "clean01()"
   ]
  },
  {
   "cell_type": "markdown",
   "metadata": {},
   "source": [
    "## Define a function to clean all datasets on an authomatized way.\n",
    "\n",
    "## CLEAN01 FUNCTION: *dataset with just first row to drop*\n",
    "\n",
    "### #1 dropping the empty  and the units columns\n",
    "\n",
    "### #2 dropping the first 2 rows because there are the quantity to analyze and the category\n",
    "\n",
    "### #3 rename the country column\n",
    "\n",
    "### #4 Set'country' index\n",
    "\n",
    "### #5 Drop the missing values\n",
    "\n",
    "### #6 Replacing '--', '-' for nan. I discover for trial and error.\n",
    "\n",
    "### #7 Convert the data from objetct to number (float or int)\n",
    "\n",
    "### #8  Transpose the matrix to have the country as index and year as columns.\n"
   ]
  },
  {
   "cell_type": "code",
   "execution_count": 51,
   "metadata": {},
   "outputs": [],
   "source": [
    "def clean2():\n",
    "    for df in features_1:\n",
    "        \n",
    "        #1\n",
    "        df.drop('Unnamed: 0',axis=1,inplace=True)\n",
    "        \n",
    "        df.drop('Unnamed: 2',axis=1,inplace=True)\n",
    "        \n",
    "        #2\n",
    "        df.drop([0],axis=0,inplace=True)\n",
    "        \n",
    "        #3\n",
    "        df.rename(columns={'Unnamed: 1':'country'},inplace=True)\n",
    "        df.reset_index(drop=True,inplace=True)\n",
    "        \n",
    "        #4\n",
    "        #for el in range(0,1146,)\n",
    "        \n",
    "        #4        \n",
    "        #df.set_index('country', inplace=True)\n",
    "\n",
    "        #5\n",
    "        #df.dropna(inplace=True)\n",
    "        \n",
    "        #6\n",
    "        #df.replace('--', np.nan, inplace=True)\n",
    "        #df.replace('-', np.nan, inplace=True)\n",
    "        \n",
    "        #7\n",
    "        #for year in df.columns:\n",
    "         #   df[year] = pd.to_numeric(df[year],errors='coerce')\n",
    "        \n",
    "        #8\n",
    "        #df=df.T\n",
    "clean2()"
   ]
  },
  {
   "cell_type": "code",
   "execution_count": null,
   "metadata": {},
   "outputs": [],
   "source": [
    "spain = consumption['Spain':'Spain']"
   ]
  },
  {
   "cell_type": "code",
   "execution_count": 88,
   "metadata": {},
   "outputs": [
    {
     "data": {
      "image/png": "[encoded data removed]",
      "text/plain": [
       "<Figure size 1008x504 with 1 Axes>"
      ]
     },
     "metadata": {
      "needs_background": "light"
     },
     "output_type": "display_data"
    }
   ],
   "source": [
    "t = np.arange(1980,2018,1)\n",
    "fig,ax = plt.subplots(1,1, figsize=(14,7))\n",
    "plt.plot(t, spain.T, 'r') \n",
    "#plt.plot(t, consumption['United States'], 'b') \n",
    "plt.show()\n"
   ]
  },
  {
   "cell_type": "code",
   "execution_count": null,
   "metadata": {},
   "outputs": [],
   "source": []
  }
 ],
 "metadata": {
  "kernelspec": {
   "display_name": "Python 3",
   "language": "python",
   "name": "python3"
  },
  "language_info": {
   "codemirror_mode": {
    "name": "ipython",
    "version": 3
   },
   "file_extension": ".py",
   "mimetype": "text/x-python",
   "name": "python",
   "nbconvert_exporter": "python",
   "pygments_lexer": "ipython3",
   "version": "3.7.5"
  }
 },
 "nbformat": 4,
 "nbformat_minor": 2
}
