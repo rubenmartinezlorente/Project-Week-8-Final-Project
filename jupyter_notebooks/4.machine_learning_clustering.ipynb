{
 "cells": [
  {
   "cell_type": "markdown",
   "metadata": {},
   "source": [
    "## OVERVIEW: MACHINE LEARNING -CLUSTERING-\n",
    "\n",
    "###  In this file you find the last module of this project, using 1) an automathized algorithm (K-neighbours) of unsupervised maching learning, 2) some features of countries with no or low correlation with energy topics, I'd   check if the clustering is the same kind as is from the  3rd module (Statistics).\n"
   ]
  },
  {
   "cell_type": "markdown",
   "metadata": {},
   "source": [
    "####  Import libraries"
   ]
  },
  {
   "cell_type": "code",
   "execution_count": 1,
   "metadata": {},
   "outputs": [],
   "source": [
    "import pandas as pd\n",
    "import numpy as np\n",
    "import statsmodels.api as sm\n",
    "import matplotlib.pyplot as plt\n",
    "import seaborn as sns\n"
   ]
  },
  {
   "cell_type": "markdown",
   "metadata": {},
   "source": [
    "#### Read files that are features no related with energy: population, GPD, C02 EMISSIONS, imports and export of energy, population."
   ]
  },
  {
   "cell_type": "code",
   "execution_count": 3,
   "metadata": {},
   "outputs": [],
   "source": [
    "label_countries = pd.read_csv('../statistics_data/label_countries.csv')\n",
    "population = pd.read_csv('../cleaned_data/population.csv')\n",
    "GDP = pd.read_csv('../cleaned_data/GDP.csv')\n",
    "C02 = pd.read_csv('../cleaned_data/C02.csv')\n",
    "imports = pd.read_csv('../cleaned_data/imports.csv')\n",
    "exports = pd.read_csv('../cleaned_data/exports.csv')\n"
   ]
  },
  {
   "cell_type": "markdown",
   "metadata": {},
   "source": [
    "#### Define a function to choose the last year of dataset 2017, transpose the matrix and label correctly the columns"
   ]
  },
  {
   "cell_type": "code",
   "execution_count": 4,
   "metadata": {},
   "outputs": [],
   "source": [
    "def prepare_df(df,l):\n",
    "    df = df.loc[df.year==2017].transpose()  \n",
    "    df.columns = df.iloc[0]\n",
    "    df.reset_index(inplace=True)\n",
    "    df = df.rename(columns={'index':'country',2017.0:f'{l}'})\n",
    "    df.drop(index=0,axis=0,inplace=True)\n",
    "\n",
    "    return df"
   ]
  },
  {
   "cell_type": "markdown",
   "metadata": {},
   "source": [
    "#### Merging for these three features: population, GDP and installations of renewables"
   ]
  },
  {
   "cell_type": "code",
   "execution_count": 5,
   "metadata": {},
   "outputs": [],
   "source": [
    "features = [GDP,population,C02]\n",
    "names = ['GDP','population','C02','imports','exports']\n",
    "features_clean = []\n",
    "\n",
    "\n",
    "for (df,l) in zip(features,names):\n",
    "    features_clean.append(prepare_df(df,l))\n",
    "      \n",
    "for i in (range(len(features_clean)-1)):\n",
    "    clustering = features_clean[i].merge(features_clean[i+1],how ='inner',on='country')\n",
    "    features_clean[i+1] = clustering \n"
   ]
  },
  {
   "cell_type": "markdown",
   "metadata": {},
   "source": [
    "## K-means clustering\n",
    "------------------------------------------------------------"
   ]
  },
  {
   "cell_type": "markdown",
   "metadata": {},
   "source": [
    "## n = 4 clusters"
   ]
  },
  {
   "cell_type": "code",
   "execution_count": 6,
   "metadata": {},
   "outputs": [
    {
     "data": {
      "text/html": [
       "<div>\n",
       "<style scoped>\n",
       "    .dataframe tbody tr th:only-of-type {\n",
       "        vertical-align: middle;\n",
       "    }\n",
       "\n",
       "    .dataframe tbody tr th {\n",
       "        vertical-align: top;\n",
       "    }\n",
       "\n",
       "    .dataframe thead th {\n",
       "        text-align: right;\n",
       "    }\n",
       "</style>\n",
       "<table border=\"1\" class=\"dataframe\">\n",
       "  <thead>\n",
       "    <tr style=\"text-align: right;\">\n",
       "      <th>year</th>\n",
       "      <th>GDP</th>\n",
       "      <th>population</th>\n",
       "      <th>C02</th>\n",
       "      <th>labels</th>\n",
       "    </tr>\n",
       "  </thead>\n",
       "  <tbody>\n",
       "    <tr>\n",
       "      <th>0</th>\n",
       "      <td>888.84700</td>\n",
       "      <td>43987.190</td>\n",
       "      <td>210.132715</td>\n",
       "      <td>3</td>\n",
       "    </tr>\n",
       "    <tr>\n",
       "      <th>1</th>\n",
       "      <td>1216.84700</td>\n",
       "      <td>24650.620</td>\n",
       "      <td>416.246333</td>\n",
       "      <td>1</td>\n",
       "    </tr>\n",
       "    <tr>\n",
       "      <th>2</th>\n",
       "      <td>428.47200</td>\n",
       "      <td>8803.741</td>\n",
       "      <td>80.974792</td>\n",
       "      <td>1</td>\n",
       "    </tr>\n",
       "    <tr>\n",
       "      <th>3</th>\n",
       "      <td>516.47700</td>\n",
       "      <td>11381.020</td>\n",
       "      <td>115.320900</td>\n",
       "      <td>1</td>\n",
       "    </tr>\n",
       "    <tr>\n",
       "      <th>4</th>\n",
       "      <td>6.85708</td>\n",
       "      <td>806.530</td>\n",
       "      <td>0.515209</td>\n",
       "      <td>1</td>\n",
       "    </tr>\n",
       "  </tbody>\n",
       "</table>\n",
       "</div>"
      ],
      "text/plain": [
       "year         GDP  population         C02  labels\n",
       "0      888.84700   43987.190  210.132715       3\n",
       "1     1216.84700   24650.620  416.246333       1\n",
       "2      428.47200    8803.741   80.974792       1\n",
       "3      516.47700   11381.020  115.320900       1\n",
       "4        6.85708     806.530    0.515209       1"
      ]
     },
     "execution_count": 6,
     "metadata": {},
     "output_type": "execute_result"
    }
   ],
   "source": [
    "from sklearn.cluster import KMeans\n",
    "\n",
    "#remove the country column because the k-means clustering just act with int or float\n",
    "\n",
    "clusteringk=clustering.drop('country',axis=1)\n",
    "\n",
    "\n",
    "kmeans = KMeans(n_clusters=4) \n",
    "clustering_countries = kmeans.fit(clusteringk)\n",
    "clusteringk['labels'] = clustering_countries.labels_\n",
    "clusteringk.head()"
   ]
  },
  {
   "cell_type": "markdown",
   "metadata": {},
   "source": [
    "### 1. Need to compare if the unsupervised machine learning clustering with 4 clusters follows the trend we predict in module 3. Statistics_linear_regresion"
   ]
  },
  {
   "cell_type": "markdown",
   "metadata": {},
   "source": [
    "### from the ML clustering, we take the values of each label "
   ]
  },
  {
   "cell_type": "code",
   "execution_count": 96,
   "metadata": {
    "scrolled": true
   },
   "outputs": [
    {
     "data": {
      "text/html": [
       "<div>\n",
       "<style scoped>\n",
       "    .dataframe tbody tr th:only-of-type {\n",
       "        vertical-align: middle;\n",
       "    }\n",
       "\n",
       "    .dataframe tbody tr th {\n",
       "        vertical-align: top;\n",
       "    }\n",
       "\n",
       "    .dataframe thead th {\n",
       "        text-align: right;\n",
       "    }\n",
       "</style>\n",
       "<table border=\"1\" class=\"dataframe\">\n",
       "  <thead>\n",
       "    <tr style=\"text-align: right;\">\n",
       "      <th>year</th>\n",
       "      <th>values</th>\n",
       "      <th>label</th>\n",
       "    </tr>\n",
       "  </thead>\n",
       "  <tbody>\n",
       "    <tr>\n",
       "      <th>0</th>\n",
       "      <td>29</td>\n",
       "      <td>green light countries</td>\n",
       "    </tr>\n",
       "    <tr>\n",
       "      <th>1</th>\n",
       "      <td>2</td>\n",
       "      <td>warning countries</td>\n",
       "    </tr>\n",
       "    <tr>\n",
       "      <th>2</th>\n",
       "      <td>3</td>\n",
       "      <td>dangerous countries</td>\n",
       "    </tr>\n",
       "    <tr>\n",
       "      <th>3</th>\n",
       "      <td>12</td>\n",
       "      <td>toxic countries</td>\n",
       "    </tr>\n",
       "  </tbody>\n",
       "</table>\n",
       "</div>"
      ],
      "text/plain": [
       "year  values                  label\n",
       "0         29  green light countries\n",
       "1          2      warning countries\n",
       "2          3    dangerous countries\n",
       "3         12        toxic countries"
      ]
     },
     "execution_count": 96,
     "metadata": {},
     "output_type": "execute_result"
    }
   ],
   "source": [
    "label_ML = clusteringk.groupby('labels').count()[['GDP']]\n",
    "label_ML.rename(columns={'GDP':'values'},inplace=True)\n",
    "label_ML['label']=['green light countries','warning countries','dangerous countries','toxic countries']\n",
    "label_ML.reset_index(inplace=True)\n",
    "label_ML.drop('labels',axis=1,inplace=True)\n",
    "label_ML"
   ]
  },
  {
   "cell_type": "markdown",
   "metadata": {},
   "source": [
    "### to plot interchange the values of row 0 with row 4. We can do that because this model just clustering, not labeling."
   ]
  },
  {
   "cell_type": "code",
   "execution_count": 97,
   "metadata": {},
   "outputs": [
    {
     "data": {
      "image/png": "[encoded data removed]",
      "text/plain": [
       "<Figure size 1008x432 with 1 Axes>"
      ]
     },
     "metadata": {
      "needs_background": "light"
     },
     "output_type": "display_data"
    }
   ],
   "source": [
    "\n",
    "fig, ax = plt.subplots(1,figsize=(14,6))\n",
    "sns.barplot(['green light countries', 'warning countries', 'dangerous countries', 'toxic countries'],[29,2,3,12])\n",
    "plt.xticks(np.arange(5),fontsize  =12)\n",
    "plt.yticks(fontsize  =16)\n",
    "plt.xlabel('Number of Clustering Countries',fontsize=16,fontweight='bold')\n",
    "plt.ylabel('Number of Countries', fontsize=16,fontweight='bold')\n",
    "fig.savefig(f'../machine_learning_data/clustering_countries_barplot.png')\n",
    "\n",
    "plt.show()"
   ]
  },
  {
   "cell_type": "markdown",
   "metadata": {},
   "source": [
    "### 2. from the Statistics clustering, we take the values of each label \n"
   ]
  },
  {
   "cell_type": "code",
   "execution_count": 98,
   "metadata": {},
   "outputs": [
    {
     "name": "stdout",
     "output_type": "stream",
     "text": [
      "<class 'pandas.core.frame.DataFrame'>\n",
      "RangeIndex: 136 entries, 0 to 135\n",
      "Data columns (total 5 columns):\n",
      "green light countries    23 non-null object\n",
      "warning countries        9 non-null object\n",
      "dangerous countries      19 non-null object\n",
      "toxic countries          136 non-null object\n",
      "other                    1 non-null object\n",
      "dtypes: object(5)\n",
      "memory usage: 5.4+ KB\n"
     ]
    }
   ],
   "source": [
    "label_countries.info()"
   ]
  },
  {
   "cell_type": "code",
   "execution_count": 99,
   "metadata": {},
   "outputs": [
    {
     "data": {
      "text/html": [
       "<div>\n",
       "<style scoped>\n",
       "    .dataframe tbody tr th:only-of-type {\n",
       "        vertical-align: middle;\n",
       "    }\n",
       "\n",
       "    .dataframe tbody tr th {\n",
       "        vertical-align: top;\n",
       "    }\n",
       "\n",
       "    .dataframe thead th {\n",
       "        text-align: right;\n",
       "    }\n",
       "</style>\n",
       "<table border=\"1\" class=\"dataframe\">\n",
       "  <thead>\n",
       "    <tr style=\"text-align: right;\">\n",
       "      <th></th>\n",
       "      <th>label</th>\n",
       "      <th>values</th>\n",
       "    </tr>\n",
       "  </thead>\n",
       "  <tbody>\n",
       "    <tr>\n",
       "      <th>0</th>\n",
       "      <td>green light countries</td>\n",
       "      <td>23</td>\n",
       "    </tr>\n",
       "    <tr>\n",
       "      <th>1</th>\n",
       "      <td>warning countries</td>\n",
       "      <td>9</td>\n",
       "    </tr>\n",
       "    <tr>\n",
       "      <th>2</th>\n",
       "      <td>dangerous countries</td>\n",
       "      <td>19</td>\n",
       "    </tr>\n",
       "    <tr>\n",
       "      <th>3</th>\n",
       "      <td>toxic countries</td>\n",
       "      <td>136</td>\n",
       "    </tr>\n",
       "  </tbody>\n",
       "</table>\n",
       "</div>"
      ],
      "text/plain": [
       "                   label  values\n",
       "0  green light countries      23\n",
       "1      warning countries       9\n",
       "2    dangerous countries      19\n",
       "3        toxic countries     136"
      ]
     },
     "execution_count": 99,
     "metadata": {},
     "output_type": "execute_result"
    }
   ],
   "source": [
    "label = pd.Series(['green light countries','warning countries','dangerous countries','toxic countries'])\n",
    "values = pd.Series([23,9,19,136])  \n",
    "frame = { 'label': label, 'values': values } \n",
    "  \n",
    "label_ST = pd.DataFrame(frame) \n",
    "label_ST"
   ]
  },
  {
   "cell_type": "markdown",
   "metadata": {},
   "source": [
    "### 3. Normalize both values to compare and plot an histogram of both"
   ]
  },
  {
   "cell_type": "code",
   "execution_count": 100,
   "metadata": {},
   "outputs": [
    {
     "data": {
      "text/html": [
       "<div>\n",
       "<style scoped>\n",
       "    .dataframe tbody tr th:only-of-type {\n",
       "        vertical-align: middle;\n",
       "    }\n",
       "\n",
       "    .dataframe tbody tr th {\n",
       "        vertical-align: top;\n",
       "    }\n",
       "\n",
       "    .dataframe thead th {\n",
       "        text-align: right;\n",
       "    }\n",
       "</style>\n",
       "<table border=\"1\" class=\"dataframe\">\n",
       "  <thead>\n",
       "    <tr style=\"text-align: right;\">\n",
       "      <th></th>\n",
       "      <th>st %</th>\n",
       "      <th>ml %</th>\n",
       "    </tr>\n",
       "  </thead>\n",
       "  <tbody>\n",
       "    <tr>\n",
       "      <th>0</th>\n",
       "      <td>16.484597</td>\n",
       "      <td>91.797896</td>\n",
       "    </tr>\n",
       "    <tr>\n",
       "      <th>1</th>\n",
       "      <td>6.450494</td>\n",
       "      <td>6.330889</td>\n",
       "    </tr>\n",
       "    <tr>\n",
       "      <th>2</th>\n",
       "      <td>13.617710</td>\n",
       "      <td>9.496334</td>\n",
       "    </tr>\n",
       "    <tr>\n",
       "      <th>3</th>\n",
       "      <td>97.474136</td>\n",
       "      <td>37.985336</td>\n",
       "    </tr>\n",
       "  </tbody>\n",
       "</table>\n",
       "</div>"
      ],
      "text/plain": [
       "        st %       ml %\n",
       "0  16.484597  91.797896\n",
       "1   6.450494   6.330889\n",
       "2  13.617710   9.496334\n",
       "3  97.474136  37.985336"
      ]
     },
     "execution_count": 100,
     "metadata": {},
     "output_type": "execute_result"
    }
   ],
   "source": [
    "import pandas as pd\n",
    "from sklearn import preprocessing\n",
    "\n",
    "##normalize the values\n",
    "ML = np.array(label_ML['values'])\n",
    "ML = 100*preprocessing.normalize([ML])\n",
    "\n",
    "\n",
    "ST = np.array(label_ST['values'])\n",
    "ST = 100*preprocessing.normalize([ST])\n",
    "\n",
    "##adding Dataframe form\n",
    "st= pd.DataFrame(ST)\n",
    "st = st.transpose()\n",
    "st.rename(columns={0:'st %'},inplace=True)\n",
    "\n",
    "ml = pd.DataFrame(ML)\n",
    "ml = ml.transpose()\n",
    "ml.rename(columns={0:'ml %'},inplace=True)\n",
    "\n",
    "##merging both dataframes\n",
    "comparation = st.merge(ml,how='inner',left_index = True, right_index = True )\n",
    "comparation\n"
   ]
  },
  {
   "cell_type": "code",
   "execution_count": 101,
   "metadata": {},
   "outputs": [],
   "source": [
    "temp = comparation['ml %'][0]\n",
    "comparation['ml %'][0] = comparation['ml %'][3]\n",
    "comparation['ml %'][3] = temp"
   ]
  },
  {
   "cell_type": "code",
   "execution_count": 102,
   "metadata": {},
   "outputs": [
    {
     "data": {
      "text/html": [
       "<div>\n",
       "<style scoped>\n",
       "    .dataframe tbody tr th:only-of-type {\n",
       "        vertical-align: middle;\n",
       "    }\n",
       "\n",
       "    .dataframe tbody tr th {\n",
       "        vertical-align: top;\n",
       "    }\n",
       "\n",
       "    .dataframe thead th {\n",
       "        text-align: right;\n",
       "    }\n",
       "</style>\n",
       "<table border=\"1\" class=\"dataframe\">\n",
       "  <thead>\n",
       "    <tr style=\"text-align: right;\">\n",
       "      <th></th>\n",
       "      <th>st %</th>\n",
       "      <th>ml %</th>\n",
       "    </tr>\n",
       "  </thead>\n",
       "  <tbody>\n",
       "    <tr>\n",
       "      <th>0</th>\n",
       "      <td>16.484597</td>\n",
       "      <td>37.985336</td>\n",
       "    </tr>\n",
       "    <tr>\n",
       "      <th>1</th>\n",
       "      <td>6.450494</td>\n",
       "      <td>6.330889</td>\n",
       "    </tr>\n",
       "    <tr>\n",
       "      <th>2</th>\n",
       "      <td>13.617710</td>\n",
       "      <td>9.496334</td>\n",
       "    </tr>\n",
       "    <tr>\n",
       "      <th>3</th>\n",
       "      <td>97.474136</td>\n",
       "      <td>91.797896</td>\n",
       "    </tr>\n",
       "  </tbody>\n",
       "</table>\n",
       "</div>"
      ],
      "text/plain": [
       "        st %       ml %\n",
       "0  16.484597  37.985336\n",
       "1   6.450494   6.330889\n",
       "2  13.617710   9.496334\n",
       "3  97.474136  91.797896"
      ]
     },
     "execution_count": 102,
     "metadata": {},
     "output_type": "execute_result"
    }
   ],
   "source": [
    "comparation"
   ]
  },
  {
   "cell_type": "code",
   "execution_count": 103,
   "metadata": {},
   "outputs": [
    {
     "data": {
      "image/png": "[encoded data removed]",
      "text/plain": [
       "<Figure size 1008x432 with 1 Axes>"
      ]
     },
     "metadata": {
      "needs_background": "light"
     },
     "output_type": "display_data"
    },
    {
     "data": {
      "image/png": "[encoded data removed]",
      "text/plain": [
       "<Figure size 1008x432 with 1 Axes>"
      ]
     },
     "metadata": {
      "needs_background": "light"
     },
     "output_type": "display_data"
    }
   ],
   "source": [
    "#PLOT PERCENTAGE LABELING COUNTRIES (STATISTICS)\n",
    "fig2, ax = plt.subplots(1,figsize=(14,6))\n",
    "sns.barplot(['green light countries', 'warning countries', 'dangerous countries', 'toxic countries'],comparation['st %'])\n",
    "plt.xticks(np.arange(5),fontsize  =12)\n",
    "plt.yticks(fontsize  =16)\n",
    "plt.xlabel('Number of Labeling Countries',fontsize=16,fontweight='bold')\n",
    "plt.ylabel('% Number of Countries', fontsize=16,fontweight='bold')\n",
    "fig2.savefig(f'../machine_learning_data/labeling_countries_barplot_percentage.png')\n",
    "\n",
    "plt.show()\n",
    "\n",
    "\n",
    "\n",
    "#PLOT PERCENTAGE CLUSTERING COUNTRIES (MACHINE LEARNING)\n",
    "fig1, ax = plt.subplots(1,figsize=(14,6))\n",
    "sns.barplot(['green light countries', 'warning countries', 'dangerous countries', 'toxic countries'],comparation['ml %'])\n",
    "plt.xticks(np.arange(5),fontsize  =12)\n",
    "plt.yticks(fontsize  =16)\n",
    "plt.xlabel('Number of Clustering Countries',fontsize=16,fontweight='bold')\n",
    "plt.ylabel('% Number of Countries', fontsize=16,fontweight='bold')\n",
    "fig1.savefig(f'../machine_learning_data/clustering_countries_barplot_percentage.png')\n",
    "\n",
    "plt.show()"
   ]
  },
  {
   "cell_type": "markdown",
   "metadata": {},
   "source": [
    "# conclusions:\n",
    "### 1. I checked how good my linear regression is applying a K-model clustering (unsupervised machine learning) for some features with no correlation or lowest I could found. \n",
    "\n",
    "### 2. I used for the model 4 clusters, the same numbers of labeling I used for the linear regression. \n",
    "\n",
    "### 3. As you can see above, the labels from statistcs and machine learning model fit categoric very well, although there is  more difference in the ML model for '*green light*' and '*dangerous*'. We can't know who label is which country, just the weight distribution"
   ]
  },
  {
   "cell_type": "code",
   "execution_count": null,
   "metadata": {},
   "outputs": [],
   "source": []
  }
 ],
 "metadata": {
  "kernelspec": {
   "display_name": "Python 3",
   "language": "python",
   "name": "python3"
  },
  "language_info": {
   "codemirror_mode": {
    "name": "ipython",
    "version": 3
   },
   "file_extension": ".py",
   "mimetype": "text/x-python",
   "name": "python",
   "nbconvert_exporter": "python",
   "pygments_lexer": "ipython3",
   "version": "3.7.4"
  }
 },
 "nbformat": 4,
 "nbformat_minor": 2
}
